{
  "nbformat": 4,
  "nbformat_minor": 0,
  "metadata": {
    "colab": {
      "provenance": [],
      "authorship_tag": "ABX9TyOLy4r+vqfGs+Aqko+3iwmi",
      "include_colab_link": true
    },
    "kernelspec": {
      "name": "python3",
      "display_name": "Python 3"
    },
    "language_info": {
      "name": "python"
    }
  },
  "cells": [
    {
      "cell_type": "markdown",
      "metadata": {
        "id": "view-in-github",
        "colab_type": "text"
      },
      "source": [
        "<a href=\"https://colab.research.google.com/github/ggsimran/Simran-Python-Assignment1/blob/main/PyW3.ipynb\" target=\"_parent\"><img src=\"https://colab.research.google.com/assets/colab-badge.svg\" alt=\"Open In Colab\"/></a>"
      ]
    },
    {
      "cell_type": "markdown",
      "source": [
        "**Function to count vowels**"
      ],
      "metadata": {
        "id": "XYwq802K0shJ"
      }
    },
    {
      "cell_type": "code",
      "source": [
        "def count_vowels(text):\n",
        "  vowels = \"aeiou\"\n",
        "  count = 0\n",
        "  for char in text.lower():\n",
        "    if char in vowels:\n",
        "      count += 1\n",
        "  return count\n",
        "print(count_vowels(\"Hello World\"))"
      ],
      "metadata": {
        "colab": {
          "base_uri": "https://localhost:8080/"
        },
        "id": "Kjn6mBuc1DpM",
        "outputId": "388ada9a-d46c-4508-c3c6-f530ca5fcccc"
      },
      "execution_count": null,
      "outputs": [
        {
          "output_type": "stream",
          "name": "stdout",
          "text": [
            "3\n"
          ]
        }
      ]
    },
    {
      "cell_type": "markdown",
      "source": [
        "**For finding maximum**"
      ],
      "metadata": {
        "id": "YsjxX62G3VjG"
      }
    },
    {
      "cell_type": "code",
      "source": [
        "def find_maximum(list1):\n",
        "  max_num = list1[0]\n",
        "  for num in list1:\n",
        "    if num > max_num:\n",
        "      max_num = num\n",
        "  return max_num\n",
        "print(find_maximum([4, 5, 8, 10]))"
      ],
      "metadata": {
        "colab": {
          "base_uri": "https://localhost:8080/"
        },
        "id": "UCD8HE133qAr",
        "outputId": "992639de-2b99-473a-fb19-e479d33e5cd5"
      },
      "execution_count": null,
      "outputs": [
        {
          "output_type": "stream",
          "name": "stdout",
          "text": [
            "10\n"
          ]
        }
      ]
    },
    {
      "cell_type": "markdown",
      "source": [
        "**Print multiplication table**"
      ],
      "metadata": {
        "id": "vdjCnaeD4aB5"
      }
    },
    {
      "cell_type": "code",
      "source": [
        "def multi_table(n):\n",
        "  for i in range(1, 11):\n",
        "    print(f\"{n} * {i} = {n * i}\")\n",
        "multi_table(5)"
      ],
      "metadata": {
        "colab": {
          "base_uri": "https://localhost:8080/"
        },
        "id": "X-W20NIF4gY5",
        "outputId": "a5f547fe-8baa-45b1-e8bf-c9df5b237185"
      },
      "execution_count": null,
      "outputs": [
        {
          "output_type": "stream",
          "name": "stdout",
          "text": [
            "5 * 1 = 5\n",
            "5 * 2 = 10\n",
            "5 * 3 = 15\n",
            "5 * 4 = 20\n",
            "5 * 5 = 25\n",
            "5 * 6 = 30\n",
            "5 * 7 = 35\n",
            "5 * 8 = 40\n",
            "5 * 9 = 45\n",
            "5 * 10 = 50\n"
          ]
        }
      ]
    },
    {
      "cell_type": "markdown",
      "source": [
        "**Longest word in sentence**"
      ],
      "metadata": {
        "id": "bTLg1iX043Gg"
      }
    },
    {
      "cell_type": "code",
      "source": [
        "def largest_word(sentence):\n",
        "  words = sentence.split()\n",
        "  largest = words[0]\n",
        "  for word in words:\n",
        "    if len(word) > len(largest):\n",
        "      largest = word\n",
        "  return largest\n",
        "print(largest_word(\"hello good morning\"))"
      ],
      "metadata": {
        "colab": {
          "base_uri": "https://localhost:8080/"
        },
        "id": "vVJKKS0C5BSE",
        "outputId": "f05b1c62-addc-428b-c5ed-04a2808c38ec"
      },
      "execution_count": null,
      "outputs": [
        {
          "output_type": "stream",
          "name": "stdout",
          "text": [
            "morning\n"
          ]
        }
      ]
    },
    {
      "cell_type": "markdown",
      "source": [
        "**Sum of all elements in list**"
      ],
      "metadata": {
        "id": "vR9YMX_K6LDc"
      }
    },
    {
      "cell_type": "code",
      "source": [
        "def sum_list(list1):\n",
        "  sum = 0\n",
        "  for num in list1:\n",
        "    sum += num\n",
        "  return sum\n",
        "print(sum_list([1, 2, 2, 3, 4]))"
      ],
      "metadata": {
        "colab": {
          "base_uri": "https://localhost:8080/"
        },
        "id": "5LkqpCV06VcE",
        "outputId": "56702c9b-b972-482e-e95f-2df1dc54960b"
      },
      "execution_count": null,
      "outputs": [
        {
          "output_type": "stream",
          "name": "stdout",
          "text": [
            "12\n"
          ]
        }
      ]
    },
    {
      "cell_type": "markdown",
      "source": [
        "**Capitalize the first letter of each word **"
      ],
      "metadata": {
        "id": "JmQOu3SP6wU1"
      }
    },
    {
      "cell_type": "code",
      "source": [
        "def capitalize(sentence):\n",
        "  return sentence.title()\n",
        "print(capitalize(\"hello good morning\"))"
      ],
      "metadata": {
        "colab": {
          "base_uri": "https://localhost:8080/"
        },
        "id": "ehumNJ_P7DS6",
        "outputId": "f28c8923-2d12-4be5-d407-f418d154a9ec"
      },
      "execution_count": null,
      "outputs": [
        {
          "output_type": "stream",
          "name": "stdout",
          "text": [
            "Hello Good Morning\n"
          ]
        }
      ]
    },
    {
      "cell_type": "markdown",
      "source": [
        "**Q no. 7**"
      ],
      "metadata": {
        "id": "mE4niZG-7pyf"
      }
    },
    {
      "cell_type": "code",
      "source": [
        "def is_palindrome(word):\n",
        "  word = word.lower()\n",
        "  return word == word[::-1]\n",
        "print(is_palindrome(\"madam\"))\n",
        "print(is_palindrome(\"hello\"))"
      ],
      "metadata": {
        "colab": {
          "base_uri": "https://localhost:8080/"
        },
        "id": "AC4a5Pny8thk",
        "outputId": "7b8087c3-ac8b-465b-830f-bf10f4dca1a0"
      },
      "execution_count": null,
      "outputs": [
        {
          "output_type": "stream",
          "name": "stdout",
          "text": [
            "True\n",
            "False\n"
          ]
        }
      ]
    },
    {
      "cell_type": "markdown",
      "source": [
        "**Q no. 8**"
      ],
      "metadata": {
        "id": "EDuxwBCh9W7N"
      }
    },
    {
      "cell_type": "code",
      "source": [
        "def char_count(s):\n",
        "  char_freq = {}\n",
        "  for char in s:\n",
        "    char_freq[char] = char_freq.get(char, 0) + 1\n",
        "  return char_freq\n",
        "\n",
        "s = str(input(\"enter any string: \"))\n",
        "print(f\"Character frequencies: {char_count(s)}\")"
      ],
      "metadata": {
        "id": "g0myc4kc9ZVt",
        "colab": {
          "base_uri": "https://localhost:8080/"
        },
        "outputId": "569a7ae0-fc04-4f3b-aa2b-69616fd7591d"
      },
      "execution_count": 1,
      "outputs": [
        {
          "output_type": "stream",
          "name": "stdout",
          "text": [
            "enter any string: good morning\n",
            "Character frequencies: {'g': 2, 'o': 3, 'd': 1, ' ': 1, 'm': 1, 'r': 1, 'n': 2, 'i': 1}\n"
          ]
        }
      ]
    }
  ]
}