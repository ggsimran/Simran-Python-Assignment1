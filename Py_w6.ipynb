{
  "nbformat": 4,
  "nbformat_minor": 0,
  "metadata": {
    "colab": {
      "provenance": []
    },
    "kernelspec": {
      "name": "python3",
      "display_name": "Python 3"
    },
    "language_info": {
      "name": "python"
    }
  },
  "cells": [
    {
      "cell_type": "code",
      "source": [
        "class Car:\n",
        "  def __init__ (self, brand, model, year, color): #constructor function\n",
        "    self.brand = brand #attribute\n",
        "    self.model = model\n",
        "    self.year = year\n",
        "    self.color = color\n",
        "\n",
        "  def display_details(self): #method\n",
        "    print(f\"Car Details: {self.brand}, Model: {self.model}, Year: {self.year}, Color: {self.color}\")\n",
        "\n",
        "car1 = Car(\"Toyota\", \"Camry\", 2020, \"Red\")\n",
        "car2 = Car(\"Ford\", \"Mustang\", 2021, \"Blue\")\n",
        "\n",
        "car1.display_details()\n",
        "car2.display_details()\n"
      ],
      "metadata": {
        "colab": {
          "base_uri": "https://localhost:8080/"
        },
        "id": "kAUlkzbxW4Sx",
        "outputId": "2205a51b-034c-4e79-c7e6-b34f596eb9db"
      },
      "execution_count": null,
      "outputs": [
        {
          "output_type": "stream",
          "name": "stdout",
          "text": [
            "Car Details: Toyota, Model: Camry, Year: 2020, Color: Red\n",
            "Car Details: Ford, Model: Mustang, Year: 2021, Color: Blue\n"
          ]
        }
      ]
    },
    {
      "cell_type": "markdown",
      "source": [
        "**Assignment**"
      ],
      "metadata": {
        "id": "BcVQ_S0eCMNw"
      }
    },
    {
      "cell_type": "markdown",
      "source": [
        "**Q no.1**\n",
        "Create a class called Student with attributes name, age, and grades (a list of integers). Write a method average_grade that calculates and returns the average grade of the student. Create three Student objects and print their average grades."
      ],
      "metadata": {
        "id": "3FtU3V8u5RZV"
      }
    },
    {
      "cell_type": "code",
      "source": [
        "class Student:\n",
        "    def __init__(self,name,age,grade):\n",
        "        self.name = name\n",
        "        self.age = age\n",
        "        self.grades = grade\n",
        "\n",
        "    def average_grade(self):\n",
        "        return sum(self.grades) / len(self.grades)\n",
        "\n",
        "student1 = Student(\"Ning\", 20, [70, 80, 90, 100, 60])\n",
        "student2 = Student(\"Kri\", 20, [95, 85, 70, 65, 55])\n",
        "student3 = Student(\"Aakriti\", 21, [60, 75, 80, 95, 70])\n",
        "\n",
        "print(f\"Avg of {student1.name}: {student1.average_grade()}\")\n",
        "print(f\"Avg of {student2.name}: {student2.average_grade()}\")\n",
        "print(f\"Avg of {student3.name}: {student3.average_grade()}\")"
      ],
      "metadata": {
        "id": "hX0g8M-mCRbI",
        "colab": {
          "base_uri": "https://localhost:8080/"
        },
        "outputId": "f7978c61-919a-4441-96ed-4071a5ba4602"
      },
      "execution_count": 9,
      "outputs": [
        {
          "output_type": "stream",
          "name": "stdout",
          "text": [
            "Avg of Ning: 80.0\n",
            "Avg of Kri: 74.0\n",
            "Avg of Aakriti: 76.0\n"
          ]
        }
      ]
    },
    {
      "cell_type": "markdown",
      "source": [
        "**Q no.2**\n",
        "Create a class called Book with attributes title, author. Write a method short_title that returns the first 10 characters of the book's title. Create three Book objects and print their short titles."
      ],
      "metadata": {
        "id": "A8E1-O6h7Rzg"
      }
    },
    {
      "cell_type": "code",
      "source": [
        "class Book:\n",
        "  def __init__(self, title, author):\n",
        "    self.title = title\n",
        "    self.author = author\n",
        "\n",
        "  def short_title(self):\n",
        "    return self.title[:10]\n",
        "\n",
        "book1 = Book(\"Pride and Prejudice\", \"Jane Austen\")\n",
        "book2 = Book(\"BeachRead\", \"Emily Henry\")\n",
        "book3 = Book(\"Daring Greatly\", \"Brene Brown\")\n",
        "\n",
        "print(f\"Short title of {book1.title} is '{book1.short_title()}'\")\n",
        "print(f\"Short title of {book2.title} is '{book2.short_title()}'\")\n",
        "print(f\"Short title of {book3.title} is '{book3.short_title()}'\")"
      ],
      "metadata": {
        "colab": {
          "base_uri": "https://localhost:8080/"
        },
        "id": "X7cB9Oa97p_T",
        "outputId": "9595aab7-cc8d-48d1-8d92-6c69f76f3b73"
      },
      "execution_count": 13,
      "outputs": [
        {
          "output_type": "stream",
          "name": "stdout",
          "text": [
            "Short title of Pride and Prejudice is 'Pride and '\n",
            "Short title of BeachRead is 'BeachRead'\n",
            "Short title of Daring Greatly is 'Daring Gre'\n"
          ]
        }
      ]
    },
    {
      "cell_type": "markdown",
      "source": [
        "**Q no.3**\n",
        "Create a class called StudentResult with attributes name, age, and average_grade and include a method has_passed that returns True if the student's average grade is 50 or higher, and False otherwise . Create three Student objects and print the names of the students who have passed."
      ],
      "metadata": {
        "id": "4ouToAXb9of7"
      }
    },
    {
      "cell_type": "code",
      "source": [
        "class StudentResult:\n",
        "  def __init__(self, name, age, average_grade):\n",
        "    self.name = name\n",
        "    self.age = age\n",
        "    self.average_grade = average_grade\n",
        "\n",
        "  def has_passed(self):\n",
        "    if self.average_grade >= 50:\n",
        "      return True\n",
        "    else:\n",
        "      return False\n",
        "\n",
        "student1 = StudentResult(\"Simran\", 30, 95)\n",
        "student2 = StudentResult(\"ningsamma\", 30, 90)\n",
        "student3 = StudentResult(\"Simrik\", 20, 40)\n",
        "\n",
        "\n",
        "print(\"Passed students: \")\n",
        "for student in [student1, student2, student3]:\n",
        "    if student.has_passed():\n",
        "        print(student.name)"
      ],
      "metadata": {
        "colab": {
          "base_uri": "https://localhost:8080/"
        },
        "id": "qbL0BuHG9uQG",
        "outputId": "ffb10303-7ae5-42ad-f65a-c85576ef5e4c"
      },
      "execution_count": 18,
      "outputs": [
        {
          "output_type": "stream",
          "name": "stdout",
          "text": [
            "Passed students: \n",
            "Simran\n",
            "ningsamma\n"
          ]
        }
      ]
    },
    {
      "cell_type": "markdown",
      "source": [
        "**Q no.4**\n",
        "Create a class called ShoppingCart with a list attribute items (each item is a dictionary with keys name and price). Write a method total_price that calculates and returns the total price of all items in the cart. Create a ShoppingCart object, add five items to it, and print the total price."
      ],
      "metadata": {
        "id": "Pwwb1V5J-dpZ"
      }
    },
    {
      "cell_type": "code",
      "source": [
        "class ShoppingCart:\n",
        "  def __init__(self):\n",
        "    self.items = []\n",
        "\n",
        "  def add_item(self, name, price):\n",
        "    self.items.append({\"name\": name, \"price\": price})\n",
        "\n",
        "  def total_price(self):\n",
        "    return sum(item[\"price\"] for item in self.items)\n",
        "\n",
        "cart = ShoppingCart()\n",
        "\n",
        "cart.add_item(\"Bread\", 200)\n",
        "cart.add_item(\"Butter\", 400)\n",
        "cart.add_item(\"Jam\", 500)\n",
        "cart.add_item(\"Milk\", 100)\n",
        "cart.add_item(\"Coffee\", 600)\n",
        "\n",
        "print(f\"Total price is: {cart.total_price()}\")"
      ],
      "metadata": {
        "colab": {
          "base_uri": "https://localhost:8080/"
        },
        "id": "2mOila12-zcy",
        "outputId": "f851224d-c818-41e4-9ed0-dcb7130d3daa"
      },
      "execution_count": 21,
      "outputs": [
        {
          "output_type": "stream",
          "name": "stdout",
          "text": [
            "Total price is: 1800\n"
          ]
        }
      ]
    },
    {
      "cell_type": "markdown",
      "source": [
        "**Q no.5**\n",
        "Create a class called TextAnalyzer with a string attribute text. Write a method word_count that returns the number of words in the text.Create a TextAnalyzer object with a sample text and print the word count."
      ],
      "metadata": {
        "id": "6ujcRiUp_e5E"
      }
    },
    {
      "cell_type": "code",
      "source": [
        "class TextAnalyzer:\n",
        "  def __init__(self, text):\n",
        "    self.text = text\n",
        "\n",
        "  def word_count(self):\n",
        "    words = self.text.split()\n",
        "    return len(words)\n",
        "\n",
        "analyzer = TextAnalyzer(\"Hello!, Good Morning.\")\n",
        "print(f\"Word count is: {analyzer.word_count()}\")"
      ],
      "metadata": {
        "colab": {
          "base_uri": "https://localhost:8080/"
        },
        "id": "B5-Xq4uC_tnP",
        "outputId": "19c635e2-9975-47bd-db89-a03c9128e2af"
      },
      "execution_count": 22,
      "outputs": [
        {
          "output_type": "stream",
          "name": "stdout",
          "text": [
            "Word count is: 3\n"
          ]
        }
      ]
    },
    {
      "cell_type": "markdown",
      "source": [
        "**Q no.6**\n",
        "Create a class called Playlist with a list attribute songs (each song is a dictionary with keys title and artist). Write a method shuffle that randomly shuffles the songs in the playlist. Create a Playlist object, add five songs to it, shuffle the playlist, and print the shuffled list of songs."
      ],
      "metadata": {
        "id": "TcR6x6llAFv5"
      }
    },
    {
      "cell_type": "code",
      "source": [
        "import random\n",
        "\n",
        "class Playlist:\n",
        "    def __init__(self):\n",
        "      self.songs = []\n",
        "\n",
        "    def add_song(self, title, artist):\n",
        "      self.songs.append({\"Song title\": title, \"artist\": artist})\n",
        "\n",
        "    def shuffle(self):\n",
        "      random.shuffle(self.songs)\n",
        "\n",
        "playlist = Playlist()\n",
        "\n",
        "playlist.add_song(\"Song 1\", \"A b c\")\n",
        "playlist.add_song(\"Song 2\", \"D ef \")\n",
        "playlist.add_song(\"Song 3\", \"G h i\")\n",
        "playlist.add_song(\"SOng 4\", \"J k l\")\n",
        "playlist.add_song(\"Song 5\", \"M no p\")\n",
        "\n",
        "playlist.shuffle()\n",
        "\n",
        "print(\"Shuffled Playlist: \")\n",
        "for song in playlist.songs:\n",
        "    print(f\"Title: {song['Song title']} by {song['artist']}\")"
      ],
      "metadata": {
        "colab": {
          "base_uri": "https://localhost:8080/"
        },
        "id": "q6QAR19MAKkp",
        "outputId": "e4d1cc5d-d564-4584-8e13-bb9b8311ee98"
      },
      "execution_count": 28,
      "outputs": [
        {
          "output_type": "stream",
          "name": "stdout",
          "text": [
            "Shuffled Playlist: \n",
            "Title: Song 5 by M no p\n",
            "Title: Song 1 by A b c\n",
            "Title: SOng 4 by J k l\n",
            "Title: Song 2 by D ef \n",
            "Title: Song 3 by G h i\n"
          ]
        }
      ]
    },
    {
      "cell_type": "markdown",
      "source": [
        "Ask the user to make deposit or withdraw from account and perform action for a BankAccount"
      ],
      "metadata": {
        "id": "3jgKJba84dkZ"
      }
    },
    {
      "cell_type": "markdown",
      "source": [],
      "metadata": {
        "id": "_Lq1z0JnCSHG"
      }
    },
    {
      "cell_type": "code",
      "source": [
        "class bankAccount:\n",
        "  def __init__(self, balance, account_number):\n",
        "    self.balance = balance\n",
        "    self.account_number = account_number\n",
        "\n",
        "  def deposit(self, amount):\n",
        "    if amount > 0:\n",
        "      self.balance += amount\n",
        "      print(f\"Deposited ${amount}.New balance: ${self.balance}\")\n",
        "    else:\n",
        "      print(\"Deposit amount must be greater than zero\")\n",
        "\n",
        "  def withdraw(self, amount):\n",
        "    if amount > 0 and amount <= self.balance:\n",
        "      self.balance -= amount\n",
        "      print(f\"Withdrew ${amount}.New balance: ${self.balance}\")\n",
        "      elif amount > self.balance:\n",
        "        print(\"Insufficient amount\")\n",
        "    else:\n",
        "      print(\"Withdrawal amount must be greater than zero\")"
      ],
      "metadata": {
        "id": "42JTdwrbkTXw"
      },
      "execution_count": null,
      "outputs": []
    },
    {
      "cell_type": "markdown",
      "source": [
        "Create a class called Student with attributes name, student_id, and courses. Implement methods to add a course, drop a course and display the list of enrolled courses. Ensure that a student cannot enroll in the same course more than once."
      ],
      "metadata": {
        "id": "96QMOLH284ww"
      }
    },
    {
      "cell_type": "code",
      "source": [
        "class Student:\n",
        "  def __init__(self, name, student_id):\n",
        "    self.name = name\n",
        "    self.student_id = student_id\n",
        "    self.courses = []\n",
        "\n",
        "  def add_course(self, course):\n",
        "    if course not in self.courses:\n",
        "      self.courses.append(course)\n",
        "      print(f\"{self.name} enrolled in {course}\")\n",
        "    else:\n",
        "      print(f\"{self.name} is already enrolled in {course}\")\n",
        "\n",
        "  def drop_course(self, course):\n",
        "    if course in self.courses:\n",
        "      self.courses.remove(course)\n",
        "      print(f\"{self.name} dropped {course}\")\n",
        "    else:\n",
        "      print(f\"{self.name} is not enrolled in {course}\")\n",
        "\n",
        "  def display_courses(self):\n",
        "      print(f\"{self.name} is enrolled in: \")\n",
        "      for course in self.courses:\n",
        "       print(course)\n"
      ],
      "metadata": {
        "id": "7akPeK-e9RCB"
      },
      "execution_count": null,
      "outputs": []
    },
    {
      "cell_type": "code",
      "source": [
        "student1 = Student(\"Simran\", \"bn220663\")\n",
        "student1.add_course(\"Math 400\")\n",
        "student1.add_course(\"COM 200\")\n",
        "\n",
        "student1.drop_course(\"COM 200\")\n",
        "\n",
        "student1.display_courses()"
      ],
      "metadata": {
        "colab": {
          "base_uri": "https://localhost:8080/"
        },
        "id": "D2X19bs1ArU4",
        "outputId": "aaa571fa-0a0e-489d-81aa-049d86cc1ae6"
      },
      "execution_count": null,
      "outputs": [
        {
          "output_type": "stream",
          "name": "stdout",
          "text": [
            "Simran enrolled in Math 400\n",
            "Simran enrolled in COM 200\n",
            "Simran dropped COM 200\n",
            "Simran is enrolled in: \n",
            "Math 400\n"
          ]
        }
      ]
    }
  ]
}