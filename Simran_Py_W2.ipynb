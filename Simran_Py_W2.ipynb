{
  "nbformat": 4,
  "nbformat_minor": 0,
  "metadata": {
    "colab": {
      "provenance": []
    },
    "kernelspec": {
      "name": "python3",
      "display_name": "Python 3"
    },
    "language_info": {
      "name": "python"
    }
  },
  "cells": [
    {
      "cell_type": "markdown",
      "source": [
        "**Question no.1**"
      ],
      "metadata": {
        "id": "L8Bd5hJotAm6"
      }
    },
    {
      "cell_type": "code",
      "source": [
        "num_list =[ 2, 10, 15, 17, 19, 20, 35, 66, 45, 88]\n",
        "\n",
        "for num in num_list:\n",
        "  if num > 50:\n",
        "    break\n",
        "  if num % 5 == 0:\n",
        "    continue\n",
        "  print(num)"
      ],
      "metadata": {
        "colab": {
          "base_uri": "https://localhost:8080/"
        },
        "id": "fmX7_U6Lr3zg",
        "outputId": "ba1fe510-ea2b-4d89-c169-e2c3f7387116"
      },
      "execution_count": 1,
      "outputs": [
        {
          "output_type": "stream",
          "name": "stdout",
          "text": [
            "2\n",
            "17\n",
            "19\n"
          ]
        }
      ]
    },
    {
      "cell_type": "markdown",
      "source": [
        "**Question no.2**"
      ],
      "metadata": {
        "id": "kS1-5a0ns88c"
      }
    },
    {
      "cell_type": "code",
      "source": [
        "password = input(\"Enter the password: \")\n",
        "if len(password) < 6 or password.isalpha():\n",
        "  print(\"The password is weak.\")\n",
        "elif len(password) >= 6 and password.isalnum():\n",
        "  print(\"The password is moderate.\")\n",
        "elif len(password) >= 8 and not password.isalnum():\n",
        "  print(\"The password is strong.\")"
      ],
      "metadata": {
        "colab": {
          "base_uri": "https://localhost:8080/"
        },
        "id": "bDBJNRKKtGfO",
        "outputId": "3fd3bea4-15da-43d6-f5ae-ea92b9c40be4"
      },
      "execution_count": 2,
      "outputs": [
        {
          "output_type": "stream",
          "name": "stdout",
          "text": [
            "Enter the password: simgrg09$\n",
            "The password is strong.\n"
          ]
        }
      ]
    },
    {
      "cell_type": "markdown",
      "source": [
        "**Question no.3**"
      ],
      "metadata": {
        "id": "E-4wCu8wuA0S"
      }
    },
    {
      "cell_type": "code",
      "source": [
        "string = input(\"Enter a sentence: \")\n",
        "words =string.split()\n",
        "for i in range(1, len(words), 2):\n",
        "  words[i] = words[i][::-1]\n",
        "print(\" \".join(words))"
      ],
      "metadata": {
        "colab": {
          "base_uri": "https://localhost:8080/"
        },
        "id": "8KNjN66iuDSu",
        "outputId": "da80ddc8-93e5-413a-b566-bce2ef14a4ec"
      },
      "execution_count": 3,
      "outputs": [
        {
          "output_type": "stream",
          "name": "stdout",
          "text": [
            "Enter a sentence: hello nepal\n",
            "hello lapen\n"
          ]
        }
      ]
    },
    {
      "cell_type": "markdown",
      "source": [
        "**Question no.4**"
      ],
      "metadata": {
        "id": "YH6O8YDMurx4"
      }
    },
    {
      "cell_type": "code",
      "source": [
        "words_input = input(\"Enter a list of words: \")\n",
        "words = words_input.split()\n",
        "word_count = {}\n",
        "for word in words:\n",
        "  if word in word_count:\n",
        "    word_count[word] += 1\n",
        "  else:\n",
        "    word_count[word] = 1\n",
        "print(word_count)"
      ],
      "metadata": {
        "colab": {
          "base_uri": "https://localhost:8080/"
        },
        "id": "nx1LK_0yuuVL",
        "outputId": "48a00e1c-0c1b-4c57-9d52-01d27def2307"
      },
      "execution_count": 15,
      "outputs": [
        {
          "output_type": "stream",
          "name": "stdout",
          "text": [
            "Enter a list of words: \"one\", \"one\", \"three\", \"two\", \"three\", \"four\"\n",
            "{'\"one\",': 2, '\"three\",': 2, '\"two\",': 1, '\"four\"': 1}\n"
          ]
        }
      ]
    },
    {
      "cell_type": "markdown",
      "source": [
        "**Question no.5**"
      ],
      "metadata": {
        "id": "2oBdW71Py2Jm"
      }
    },
    {
      "cell_type": "code",
      "source": [
        "books = {\n",
        "    \"the four agreements\": 3,\n",
        "    \"Honey\" : 7,\n",
        "    \"Ikigai\" : 5,\n",
        "}\n",
        "book_name = str(input(\"enter the name of book: \"))\n",
        "\n",
        "if book_name in books:\n",
        "  for_user = input(\"enter the num of copies you want to buy: \")\n",
        "  if for_user.isdigit():\n",
        "    for_user = int(for_user)\n",
        "\n",
        "  if for_user <= books[book_name]:\n",
        "    if for_user == books[book_name]:\n",
        "      print(\"book available\")\n",
        "    else:\n",
        "      print(\"book not available\")\n",
        "  else:\n",
        "      print(\"unavailable\")"
      ],
      "metadata": {
        "colab": {
          "base_uri": "https://localhost:8080/"
        },
        "id": "Mz_zN4yjy4g3",
        "outputId": "9b5d8560-ec06-4f4e-a998-31fec16d7d6a"
      },
      "execution_count": 17,
      "outputs": [
        {
          "output_type": "stream",
          "name": "stdout",
          "text": [
            "enter the name of book: Ikigai\n",
            "enter the num of copies you want to buy: 4\n",
            "book not available\n"
          ]
        }
      ]
    },
    {
      "cell_type": "markdown",
      "source": [
        "**Question no.6**"
      ],
      "metadata": {
        "id": "YoBgfqj30z_h"
      }
    },
    {
      "cell_type": "code",
      "source": [
        "words = input(\"enter a list of words: \").split()\n",
        "\n",
        "frequency = {}\n",
        "for word in words:\n",
        "  word = word.lower()\n",
        "  if word in frequency:\n",
        "    frequency[word] += 1\n",
        "  else:\n",
        "    frequency[word] = 1\n",
        "print (\"word in frequency: \", frequency)"
      ],
      "metadata": {
        "colab": {
          "base_uri": "https://localhost:8080/"
        },
        "id": "329CNoCj05PB",
        "outputId": "a3c90afb-a8ab-4462-d13b-091b6871c77b"
      },
      "execution_count": 19,
      "outputs": [
        {
          "output_type": "stream",
          "name": "stdout",
          "text": [
            "enter a list of words: this is apple apple\n",
            "word in frequency:  {'this': 1, 'is': 1, 'apple': 2}\n"
          ]
        }
      ]
    }
  ]
}